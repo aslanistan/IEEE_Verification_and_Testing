{
 "cells": [
  {
   "cell_type": "markdown",
   "id": "be063d62-4fc3-4ef4-8cbf-d88be85080f8",
   "metadata": {},
   "source": [
    "# Numpy Random Numbers\n",
    "\n",
    "##  [Numpy Document](https://numpy.org/doc/stable/reference/random/generated/numpy.random.rand.html)\n",
    "\n",
    "##  [w3school](https://www.w3schools.com/python/numpy/numpy_random.asp)\n",
    "\n",
    "**random.rand(d0, d1, ..., dn)**\n",
    "\n",
    "This is a convenience function for users porting code from Matlab, and wraps random_sample. That function takes a tuple to specify the size of the output, which is consistent with other NumPy functions like numpy.zeros and numpy.ones."
   ]
  },
  {
   "cell_type": "code",
   "execution_count": 9,
   "id": "5e1dc89e-7739-4fb2-90ac-1b7e87f92db7",
   "metadata": {},
   "outputs": [
    {
     "data": {
      "text/plain": [
       "array([[0.05835134, 3.66296095, 6.30999438, 9.5046761 ],\n",
       "       [1.65581637, 7.98046208, 3.18958725, 2.56813214],\n",
       "       [5.16861419, 9.760813  , 0.92204739, 6.35601851],\n",
       "       [3.33996977, 6.46157911, 6.54353485, 4.95971026]])"
      ]
     },
     "execution_count": 10,
     "metadata": {},
     "output_type": "execute_result"
    }
   ],
   "source": [
    "import numpy as np\n",
    "\n",
    "a = np.random.rand(4,4)\n",
    "a=a*10\n",
    "a_int = a.astype(int)\n",
    "a_int"
   ]
  },
  {
   "cell_type": "code",
   "execution_count": null,
   "id": "cb1e487e-03b1-449d-b890-0b2eac2f358b",
   "metadata": {},
   "outputs": [],
   "source": []
  },
  {
   "cell_type": "markdown",
   "id": "7b8ea073-9828-4e72-b52f-723e30cd3ce0",
   "metadata": {},
   "source": [
    "**random.randint(low, high=None, size=None, dtype=int)**\n",
    "\n",
    "Return random integers from low (inclusive) to high (exclusive).\n",
    "\n",
    "Return random integers from the “discrete uniform” distribution of the specified dtype in the “half-open” interval [low, high). If high is None (the default), then results are from [0, low)."
   ]
  },
  {
   "cell_type": "code",
   "execution_count": 24,
   "id": "3459e539-8a4b-4008-8cc3-91a178359a3f",
   "metadata": {},
   "outputs": [
    {
     "data": {
      "text/plain": [
       "array([0, 0, 0, 1, 1, 0, 0, 1, 0, 0])"
      ]
     },
     "execution_count": 24,
     "metadata": {},
     "output_type": "execute_result"
    }
   ],
   "source": [
    "a = np.random.randint(2, size=10)\n",
    "a"
   ]
  },
  {
   "cell_type": "code",
   "execution_count": 33,
   "id": "166fcfb4-c34b-448c-8349-b56d0ec5cbf3",
   "metadata": {},
   "outputs": [
    {
     "data": {
      "text/plain": [
       "array([-1,  1,  0,  2, -2,  2, -2, -2, -1,  1, -2,  0, -2, -1,  0,  0,  1,\n",
       "        2,  0,  1,  0,  0,  1,  0, -1,  1, -2,  2,  0, -2, -2,  2, -2,  0,\n",
       "        0,  0,  1,  2,  2, -2,  1,  2, -2, -1, -1,  0,  0,  0,  0,  0,  0,\n",
       "       -2,  1,  0,  0, -2, -1, -2, -2,  0,  2, -1,  0,  0,  0,  2,  0, -1,\n",
       "        1, -1,  1, -2,  2, -2, -2,  2,  2, -2,  0,  0, -2,  2,  2,  2, -1,\n",
       "        1,  1,  1, -2, -1,  1, -1,  1,  2,  0,  0, -1,  2,  0,  1])"
      ]
     },
     "execution_count": 33,
     "metadata": {},
     "output_type": "execute_result"
    }
   ],
   "source": [
    "a = np.random.randint(-2,3, size=10)\n",
    "a"
   ]
  },
  {
   "cell_type": "code",
   "execution_count": 39,
   "id": "c7bdc55c-1188-4cb3-9188-9c9068645fdf",
   "metadata": {},
   "outputs": [
    {
     "data": {
      "text/plain": [
       "array([[-2,  2, -1, -1],\n",
       "       [ 2,  2,  2,  0],\n",
       "       [ 2, -1, -1,  0],\n",
       "       [ 2, -1,  1,  1]])"
      ]
     },
     "execution_count": 39,
     "metadata": {},
     "output_type": "execute_result"
    }
   ],
   "source": [
    "a = np.random.randint(-2,3, size=(4,4))\n",
    "a"
   ]
  },
  {
   "cell_type": "code",
   "execution_count": 42,
   "id": "6210864f-7f04-4108-af48-2d144c0965e4",
   "metadata": {},
   "outputs": [
    {
     "data": {
      "text/plain": [
       "array([[1, 1, 1, 1],\n",
       "       [1, 2, 1, 1],\n",
       "       [2, 2, 1, 2],\n",
       "       [1, 1, 1, 2]], dtype=uint8)"
      ]
     },
     "execution_count": 42,
     "metadata": {},
     "output_type": "execute_result"
    }
   ],
   "source": [
    "a = np.random.randint(1,3, size=(4,4),dtype=np.uint8)\n",
    "a"
   ]
  },
  {
   "cell_type": "code",
   "execution_count": 47,
   "id": "bbf42b9d-f35f-4881-b53e-f56436f6ee8a",
   "metadata": {},
   "outputs": [
    {
     "data": {
      "text/plain": [
       "array([[1, 4, 4],\n",
       "       [1, 4, 9],\n",
       "       [1, 3, 6]])"
      ]
     },
     "execution_count": 47,
     "metadata": {},
     "output_type": "execute_result"
    }
   ],
   "source": [
    "a=np.random.randint(1, [2, 5, 10],size=(3,3))\n",
    "a"
   ]
  },
  {
   "cell_type": "code",
   "execution_count": 48,
   "id": "5d33366d-5160-498c-8bf5-038eeb5bbe47",
   "metadata": {},
   "outputs": [
    {
     "data": {
      "text/plain": [
       "array([[11,  9, 11],\n",
       "       [ 9,  6, 11],\n",
       "       [ 2,  6, 11]])"
      ]
     },
     "execution_count": 48,
     "metadata": {},
     "output_type": "execute_result"
    }
   ],
   "source": [
    "a=np.random.randint([2, 5, 10],12,size=(3,3))\n",
    "a"
   ]
  },
  {
   "cell_type": "code",
   "execution_count": 50,
   "id": "86e167a6-6a5f-44e7-9337-05b33d122f33",
   "metadata": {},
   "outputs": [
    {
     "data": {
      "text/plain": [
       "array([[ 4,  7,  7,  8],\n",
       "       [14, 16, 10, 11],\n",
       "       [ 9,  7,  7,  9]], dtype=uint8)"
      ]
     },
     "execution_count": 50,
     "metadata": {},
     "output_type": "execute_result"
    }
   ],
   "source": [
    "a=np.random.randint([1, 3, 5, 7], [[10], [20],[10]], dtype=np.uint8)\n",
    "a"
   ]
  },
  {
   "cell_type": "code",
   "execution_count": null,
   "id": "eb57b0df-e1f8-4a5f-a46e-68d503156c0b",
   "metadata": {},
   "outputs": [],
   "source": []
  },
  {
   "cell_type": "markdown",
   "id": "20d6366e-2b9c-4349-85a7-2813a31e7ff5",
   "metadata": {},
   "source": [
    "**random.randn(d0, d1, ..., dn)**\n",
    "\n",
    "Return a sample (or samples) from the “standard normal” distribution.\n",
    "\n",
    "For random samples from the normal distribution with mean mu and standard deviation sigma, use: \n",
    "```sigma * np.random.randn(...) + mu```"
   ]
  },
  {
   "cell_type": "code",
   "execution_count": 57,
   "id": "6c21f2b9-46f3-478c-8be0-45a025401e03",
   "metadata": {},
   "outputs": [
    {
     "data": {
      "text/plain": [
       "array([[ 1.10535771, -0.41341037,  0.69847218,  0.09798675],\n",
       "       [ 0.74785519, -0.73901056,  0.23057421,  1.4805011 ],\n",
       "       [ 1.65758754, -0.59176352,  0.33115635, -1.53318057],\n",
       "       [-1.89552834,  1.2230777 ,  0.55903082, -0.67610151]])"
      ]
     },
     "execution_count": 57,
     "metadata": {},
     "output_type": "execute_result"
    }
   ],
   "source": [
    "a=np.random.randn(4,4)\n",
    "a"
   ]
  },
  {
   "cell_type": "code",
   "execution_count": 59,
   "id": "d1cd0d15-0ff0-4cfc-a6ad-ced383c163f4",
   "metadata": {},
   "outputs": [
    {
     "data": {
      "text/plain": [
       "array([[3.35681549, 4.27447582, 2.9587589 , 4.50246247],\n",
       "       [3.91540034, 5.02782022, 4.53339463, 3.45255231]])"
      ]
     },
     "execution_count": 59,
     "metadata": {},
     "output_type": "execute_result"
    }
   ],
   "source": [
    "a=3 + 2.5 * np.random.randn(2, 4)\n",
    "a"
   ]
  },
  {
   "cell_type": "code",
   "execution_count": null,
   "id": "62545fbe-c477-48d4-b2a6-25f5e4bd18b2",
   "metadata": {},
   "outputs": [],
   "source": []
  },
  {
   "cell_type": "markdown",
   "id": "ec629868-f58b-4742-bb38-ab04434d951a",
   "metadata": {},
   "source": [
    "**random.random(size=None)**\n",
    "\n",
    "Return random floats in the half-open interval [0.0, 1.0)"
   ]
  },
  {
   "cell_type": "code",
   "execution_count": 77,
   "id": "5d4ea7b0-2801-4b46-af98-967370faf46e",
   "metadata": {},
   "outputs": [],
   "source": [
    "d1 = np.random.randint(1, 7, 1000)\n",
    "d2 = np.random.randint(1, 7, 1000)\n",
    "dsums = d1 + d2\n"
   ]
  },
  {
   "cell_type": "code",
   "execution_count": 78,
   "id": "a038a563-9ad4-44ff-933f-62b39011159f",
   "metadata": {},
   "outputs": [
    {
     "data": {
      "image/png": "[encoded data removed]",
      "text/plain": [
       "<Figure size 640x480 with 1 Axes>"
      ]
     },
     "metadata": {},
     "output_type": "display_data"
    }
   ],
   "source": [
    "import matplotlib.pyplot as plt\n",
    "count, bins, ignored = plt.hist(dsums, 11, density=True)\n",
    "plt.show()"
   ]
  },
  {
   "cell_type": "code",
   "execution_count": null,
   "id": "4a79188e-597a-4818-ae0b-b3fab1616f63",
   "metadata": {},
   "outputs": [],
   "source": []
  },
  {
   "cell_type": "markdown",
   "id": "1728e532-9886-4c56-90ac-55252a1964c0",
   "metadata": {},
   "source": [
    "### Create a random selection\n",
    "\n"
   ]
  },
  {
   "cell_type": "code",
   "execution_count": 87,
   "id": "c2f81ba3-fcda-45ef-89d0-673ece8334ff",
   "metadata": {},
   "outputs": [
    {
     "data": {
      "text/plain": [
       "array([3, 0, 4, 3])"
      ]
     },
     "execution_count": 87,
     "metadata": {},
     "output_type": "execute_result"
    }
   ],
   "source": [
    "# Generate a uniform random sample from np.arange(10) of size 4:\n",
    "x = np.random.choice(10,4)\n",
    "x"
   ]
  },
  {
   "cell_type": "code",
   "execution_count": 88,
   "id": "2da83134-cccb-4f62-b5c9-38e835c060fd",
   "metadata": {},
   "outputs": [
    {
     "data": {
      "text/plain": [
       "array([  1, -10,   1,   3])"
      ]
     },
     "execution_count": 88,
     "metadata": {},
     "output_type": "execute_result"
    }
   ],
   "source": [
    "# Generate a uniform random sample from [1,3,4,-10] of size 4:\n",
    "x = np.random.choice([1,3,4,-10],4)\n",
    "x"
   ]
  },
  {
   "cell_type": "code",
   "execution_count": 89,
   "id": "d66cfae2-b582-4faf-8d8e-aa849ad30795",
   "metadata": {},
   "outputs": [
    {
     "data": {
      "text/plain": [
       "array([8, 7, 1, 3])"
      ]
     },
     "execution_count": 89,
     "metadata": {},
     "output_type": "execute_result"
    }
   ],
   "source": [
    "# Generate a uniform random sample from np.arange(10) of size 4 without replace:\n",
    "x = np.random.choice(10,4,replace=False)\n",
    "x"
   ]
  },
  {
   "cell_type": "code",
   "execution_count": 90,
   "id": "77942ee0-bb06-4acf-994e-3164af3f365e",
   "metadata": {},
   "outputs": [
    {
     "data": {
      "text/plain": [
       "array([ 4, -9, -6, -5,  5, -2,  3, -1,  5,  2])"
      ]
     },
     "execution_count": 90,
     "metadata": {},
     "output_type": "execute_result"
    }
   ],
   "source": [
    "a = np.random.randint(-10,10, size=10)\n",
    "a"
   ]
  },
  {
   "cell_type": "code",
   "execution_count": 92,
   "id": "33a17000-4cbf-40c7-99b7-539748a7a689",
   "metadata": {},
   "outputs": [
    {
     "data": {
      "text/plain": [
       "array([-5,  5,  2,  2])"
      ]
     },
     "execution_count": 92,
     "metadata": {},
     "output_type": "execute_result"
    }
   ],
   "source": [
    "x = np.random.choice(a,4)\n",
    "x"
   ]
  },
  {
   "cell_type": "code",
   "execution_count": 93,
   "id": "d65fbe36-cfa6-4a62-9783-f80f0ba15a4f",
   "metadata": {},
   "outputs": [
    {
     "data": {
      "text/plain": [
       "array([ 5,  2, -6, -2])"
      ]
     },
     "execution_count": 93,
     "metadata": {},
     "output_type": "execute_result"
    }
   ],
   "source": [
    "x = np.random.choice(a,4,replace=False)\n",
    "x"
   ]
  },
  {
   "cell_type": "code",
   "execution_count": 97,
   "id": "5012b943-7f05-4d24-b833-27a0e503f282",
   "metadata": {},
   "outputs": [
    {
     "data": {
      "text/plain": [
       "array([[ 5, -5,  4, -6],\n",
       "       [ 2, -5, -1, -2],\n",
       "       [-2, -5,  3,  5],\n",
       "       [ 5,  5,  5,  5]])"
      ]
     },
     "execution_count": 97,
     "metadata": {},
     "output_type": "execute_result"
    }
   ],
   "source": [
    "x = np.random.choice(a,size=(4,4))\n",
    "x"
   ]
  },
  {
   "cell_type": "code",
   "execution_count": null,
   "id": "69e08b76-a782-4c77-803e-84ce917325a3",
   "metadata": {},
   "outputs": [],
   "source": []
  },
  {
   "cell_type": "markdown",
   "id": "fb33c60e-ac5f-4c09-bacb-56db01d23f6c",
   "metadata": {},
   "source": [
    "## Input and output using Numpy\n",
    "\n",
    "### np.save\n",
    "\n",
    "**numpy.save(file, arr, allow_pickle=True, fix_imports=True)**\n",
    "\n",
    "numpy.load(file, mmap_mode=None, allow_pickle=False, fix_imports=True, encoding='ASCII', *, max_header_size=10000) [[source]](https://numpy.org/doc/stable/reference/generated/numpy.save.html)\n"
   ]
  },
  {
   "cell_type": "code",
   "execution_count": null,
   "id": "15fc4277-6126-4118-a62f-c827c54c7be2",
   "metadata": {},
   "outputs": [],
   "source": [
    "x = np.random.choice(a,size=(4,4))\n",
    "x"
   ]
  },
  {
   "cell_type": "code",
   "execution_count": 137,
   "id": "65ee3ffd-f1fc-457e-a512-49ee3f15516f",
   "metadata": {},
   "outputs": [],
   "source": [
    "## Save x\n",
    "np.save('test', x)"
   ]
  },
  {
   "cell_type": "markdown",
   "id": "4473fb2e-da39-4444-a3e1-a675a69be69c",
   "metadata": {},
   "source": [
    "### numpy.savez\n",
    "\n",
    "__numpy.savez(file, *args, **kwds)__\n"
   ]
  },
  {
   "cell_type": "code",
   "execution_count": 138,
   "id": "7a26fcfc-34af-42b8-89f2-d9a37d589916",
   "metadata": {},
   "outputs": [],
   "source": [
    "y = np.random.choice(a,size=(5,5))\n",
    "y\n",
    "np.savez('testz', x=x,y=y)"
   ]
  },
  {
   "cell_type": "markdown",
   "id": "e3eebeb3-fce8-4b7d-ae26-f3d6b8172132",
   "metadata": {},
   "source": [
    "### np.savez_compressed\n",
    "\n",
    "__numpy.savez_compressed(file, *args, **kwds)__\n"
   ]
  },
  {
   "cell_type": "code",
   "execution_count": 139,
   "id": "5aa246f7-029c-46b1-bccf-d6a8d27a1364",
   "metadata": {},
   "outputs": [],
   "source": [
    "np.savez_compressed('testzc', x=x,y=y)"
   ]
  },
  {
   "cell_type": "markdown",
   "id": "f3a5940f-679c-4d78-8869-f6a7bda11031",
   "metadata": {},
   "source": [
    "### numpy.load\n",
    "\n",
    "**numpy.load(file, mmap_mode=None, allow_pickle=False, fix_imports=True, encoding='ASCII', \\*, max_header_size=10000)**\n",
    "\n",
    "[[source]](https://numpy.org/doc/stable/reference/generated/numpy.load.html#numpy.load)"
   ]
  },
  {
   "cell_type": "code",
   "execution_count": 140,
   "id": "67ce2a05-37a5-4887-93fc-9542e1ebbb4a",
   "metadata": {},
   "outputs": [
    {
     "data": {
      "text/plain": [
       "array([[ 3, -6, -5, -1],\n",
       "       [ 2,  4,  3, -1],\n",
       "       [-5,  5,  5, -9],\n",
       "       [ 5, -9, -5, -5]])"
      ]
     },
     "execution_count": 140,
     "metadata": {},
     "output_type": "execute_result"
    }
   ],
   "source": [
    "x = np.random.choice(a,size=(4,4))\n",
    "x"
   ]
  },
  {
   "cell_type": "code",
   "execution_count": 141,
   "id": "98dfbb47-90bc-4ec4-9391-ff626792e955",
   "metadata": {},
   "outputs": [],
   "source": [
    "## Save x\n",
    "np.save('test', x)"
   ]
  },
  {
   "cell_type": "code",
   "execution_count": 142,
   "id": "26975f5a-8daf-45b3-bd28-30d8d898b83f",
   "metadata": {},
   "outputs": [
    {
     "data": {
      "text/plain": [
       "array([[ 3, -6, -5, -1],\n",
       "       [ 2,  4,  3, -1],\n",
       "       [-5,  5,  5, -9],\n",
       "       [ 5, -9, -5, -5]])"
      ]
     },
     "execution_count": 142,
     "metadata": {},
     "output_type": "execute_result"
    }
   ],
   "source": [
    "## load x as name m\n",
    "m=np.load('test.npy')\n",
    "m"
   ]
  },
  {
   "cell_type": "code",
   "execution_count": 143,
   "id": "469c67c2-1a52-418c-adf2-24c03da12031",
   "metadata": {},
   "outputs": [],
   "source": [
    "## Save x and y\n",
    "y = np.random.choice(a,size=(5,5))\n",
    "y\n",
    "np.savez('testz', x=x,y=y)"
   ]
  },
  {
   "cell_type": "code",
   "execution_count": 144,
   "id": "4f7d59ae-144e-4c06-9bd0-305f710a0cb8",
   "metadata": {},
   "outputs": [
    {
     "data": {
      "text/plain": [
       "array([[ 2, -5, -5, -1, -9],\n",
       "       [-2, -2, -5, -5,  2],\n",
       "       [-9,  3,  3, -1,  3],\n",
       "       [ 2, -6,  5,  5,  5],\n",
       "       [-1, -5,  5, -2,  2]])"
      ]
     },
     "execution_count": 144,
     "metadata": {},
     "output_type": "execute_result"
    }
   ],
   "source": [
    "mz=np.load('testz.npz')\n",
    "mz['y']\n",
    "#mz.close()\n",
    "mz['y']"
   ]
  },
  {
   "cell_type": "code",
   "execution_count": 145,
   "id": "4a282189-e5c2-47d4-a6c5-b7c995971974",
   "metadata": {},
   "outputs": [
    {
     "data": {
      "text/plain": [
       "array([[ 3, -6, -5, -1],\n",
       "       [ 2,  4,  3, -1],\n",
       "       [-5,  5,  5, -9],\n",
       "       [ 5, -9, -5, -5]])"
      ]
     },
     "execution_count": 145,
     "metadata": {},
     "output_type": "execute_result"
    }
   ],
   "source": [
    "mz['x']"
   ]
  },
  {
   "cell_type": "code",
   "execution_count": 146,
   "id": "22f04ee0-4595-481a-b06b-eff91a5dbde9",
   "metadata": {},
   "outputs": [
    {
     "data": {
      "text/plain": [
       "array([[-6, -1, -5,  2],\n",
       "       [-1,  5,  2,  5],\n",
       "       [ 2,  3,  3,  4],\n",
       "       [ 2,  3, -6,  3]])"
      ]
     },
     "execution_count": 146,
     "metadata": {},
     "output_type": "execute_result"
    }
   ],
   "source": [
    "mz=np.load('testzc.npz')\n",
    "mz['x']\n",
    "#mz.close()\n",
    "mz['x']"
   ]
  },
  {
   "cell_type": "markdown",
   "id": "39fb871c-3c0b-4e12-a548-85e1b2371e53",
   "metadata": {},
   "source": []
  },
  {
   "cell_type": "markdown",
   "id": "76d0e206-0ed9-4082-a98a-afecfaca476e",
   "metadata": {},
   "source": [
    "### numpy.savetxt\n",
    "\n",
    "**numpy.savetxt(fname, X, fmt='%.18e', delimiter=' ', newline='\\n', header='', footer='', comments='# ', encoding=None)**\n",
    "\n",
    "[[source]](https://numpy.org/doc/stable/reference/generated/numpy.savetxt.html)\n",
    "\n",
    "### specifiers:\n",
    "\n",
    "c : character\n",
    "\n",
    "d or i : signed decimal integer\n",
    "\n",
    "e or E : scientific notation with e or E.\n",
    "\n",
    "f : decimal floating point\n",
    "\n",
    "g,G : use the shorter of e,E or f\n",
    "\n",
    "o : signed octal\n",
    "\n",
    "s : string of characters\n",
    "\n",
    "u : unsigned decimal integer\n",
    "\n",
    "x,X : unsigned hexadecimal integer\n"
   ]
  },
  {
   "cell_type": "code",
   "execution_count": 172,
   "id": "ffaaacf4-bfa9-4d7c-9764-64d21312d5d8",
   "metadata": {},
   "outputs": [],
   "source": [
    "np.savetxt('test1.dat', x) "
   ]
  },
  {
   "cell_type": "code",
   "execution_count": 174,
   "id": "8f6c7d52-c837-44ea-9a33-26866274faac",
   "metadata": {},
   "outputs": [],
   "source": [
    "np.savetxt('test2.dat', x, delimiter='\\t') "
   ]
  },
  {
   "cell_type": "code",
   "execution_count": 176,
   "id": "77020dc3-a55c-4cf3-a318-7c2432d20e69",
   "metadata": {},
   "outputs": [],
   "source": [
    "np.savetxt('test30.dat', x, fmt='%1.4e')   "
   ]
  },
  {
   "cell_type": "code",
   "execution_count": 157,
   "id": "b398536e-7408-4383-86fb-2985b4af5455",
   "metadata": {},
   "outputs": [],
   "source": [
    "np.savetxt('test31.dat', x, fmt='%d') "
   ]
  },
  {
   "cell_type": "code",
   "execution_count": 158,
   "id": "6647ee95-fc96-4355-a0b6-c4ce847c3561",
   "metadata": {},
   "outputs": [],
   "source": [
    "np.savetxt('test33.dat', x, fmt='%.2f') "
   ]
  },
  {
   "cell_type": "code",
   "execution_count": 170,
   "id": "460c3b20-15ef-406a-8e3e-741d3779c1e7",
   "metadata": {},
   "outputs": [],
   "source": [
    "np.savetxt('test4.dat', x, fmt=\"%d\", delimiter=',', newline=\"\\n\", header=\"x1,x2,x3,x4\\n\", footer=\"Hello\\n\")"
   ]
  },
  {
   "cell_type": "code",
   "execution_count": null,
   "id": "dd593c4f-b131-406d-a789-97fd494b6a72",
   "metadata": {},
   "outputs": [],
   "source": []
  },
  {
   "cell_type": "markdown",
   "id": "2d422de3-c263-4dd0-a211-0c82cfc0405f",
   "metadata": {},
   "source": [
    "### numpy.loadtxt\n",
    "\n",
    "__numpy.loadtxt(fname, dtype=<class 'float'>, comments='#', delimiter=None, converters=None, skiprows=0, usecols=None, unpack=False, ndmin=0, encoding='bytes', max_rows=None, *, quotechar=None, like=None)__\n",
    "\n",
    "[[source]](https://numpy.org/doc/stable/reference/generated/numpy.loadtxt.html#numpy.loadtxt)\n",
    "\n",
    "numpy.loadtxt(fname, dtype=<class 'float'>, comments='#', delimiter=None, converters=None, skiprows=0, usecols=None, unpack=False, ndmin=0, encoding='bytes', max_rows=None, *, quotechar=None, like=None)[source]\n"
   ]
  },
  {
   "cell_type": "code",
   "execution_count": 173,
   "id": "713f6a59-a5c7-4c64-a4d7-de8aa157f8bf",
   "metadata": {},
   "outputs": [
    {
     "data": {
      "text/plain": [
       "array([[ 3., -6., -5., -1.],\n",
       "       [ 2.,  4.,  3., -1.],\n",
       "       [-5.,  5.,  5., -9.],\n",
       "       [ 5., -9., -5., -5.]])"
      ]
     },
     "execution_count": 173,
     "metadata": {},
     "output_type": "execute_result"
    }
   ],
   "source": [
    "m=np.loadtxt('test1.dat') \n",
    "m"
   ]
  },
  {
   "cell_type": "code",
   "execution_count": 175,
   "id": "24cbce1b-90ab-48f2-99d4-3f0bba69aa2e",
   "metadata": {},
   "outputs": [
    {
     "data": {
      "text/plain": [
       "array([[ 3., -6., -5., -1.],\n",
       "       [ 2.,  4.,  3., -1.],\n",
       "       [-5.,  5.,  5., -9.],\n",
       "       [ 5., -9., -5., -5.]])"
      ]
     },
     "execution_count": 175,
     "metadata": {},
     "output_type": "execute_result"
    }
   ],
   "source": [
    "m=np.loadtxt('test2.dat') \n",
    "m"
   ]
  },
  {
   "cell_type": "code",
   "execution_count": 184,
   "id": "0e72cdbe-cf6e-4e69-b82d-cca19a77b064",
   "metadata": {},
   "outputs": [
    {
     "data": {
      "text/plain": [
       "array([[ 3., -6., -5., -1.],\n",
       "       [ 2.,  4.,  3., -1.],\n",
       "       [-5.,  5.,  5., -9.],\n",
       "       [ 5., -9., -5., -5.]])"
      ]
     },
     "execution_count": 184,
     "metadata": {},
     "output_type": "execute_result"
    }
   ],
   "source": [
    "m=np.loadtxt('test30.dat') \n",
    "m"
   ]
  },
  {
   "cell_type": "code",
   "execution_count": 185,
   "id": "fae29898-314e-43f3-b130-246b27fd88c3",
   "metadata": {},
   "outputs": [
    {
     "data": {
      "text/plain": [
       "array([[ 3, -6, -5, -1],\n",
       "       [ 2,  4,  3, -1],\n",
       "       [-5,  5,  5, -9],\n",
       "       [ 5, -9, -5, -5]], dtype=int16)"
      ]
     },
     "execution_count": 185,
     "metadata": {},
     "output_type": "execute_result"
    }
   ],
   "source": [
    "m=np.loadtxt('test30.dat',dtype='int16') \n",
    "m"
   ]
  },
  {
   "cell_type": "code",
   "execution_count": 189,
   "id": "6adb1a98-f054-465f-97ac-c862c6acd8ea",
   "metadata": {},
   "outputs": [
    {
     "data": {
      "text/plain": [
       "array([[ 3, -6, -5, -1],\n",
       "       [ 2,  4,  3, -1],\n",
       "       [-5,  5,  5, -9],\n",
       "       [ 5, -9, -5, -5]], dtype=int16)"
      ]
     },
     "execution_count": 189,
     "metadata": {},
     "output_type": "execute_result"
    }
   ],
   "source": [
    "m=np.loadtxt('test30.dat',dtype='int16') \n",
    "m"
   ]
  },
  {
   "cell_type": "code",
   "execution_count": null,
   "id": "90dd7c47-2438-4d81-aa37-4f191086fae7",
   "metadata": {},
   "outputs": [],
   "source": []
  }
 ],
 "metadata": {
  "kernelspec": {
   "display_name": "Python 3 (ipykernel)",
   "language": "python",
   "name": "python3"
  },
  "language_info": {
   "codemirror_mode": {
    "name": "ipython",
    "version": 3
   },
   "file_extension": ".py",
   "mimetype": "text/x-python",
   "name": "python",
   "nbconvert_exporter": "python",
   "pygments_lexer": "ipython3",
   "version": "3.9.15"
  }
 },
 "nbformat": 4,
 "nbformat_minor": 5
}
